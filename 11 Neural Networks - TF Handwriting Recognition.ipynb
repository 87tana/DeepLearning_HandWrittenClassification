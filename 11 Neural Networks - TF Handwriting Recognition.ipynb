{
 "cells": [
  {
   "cell_type": "markdown",
   "id": "b01431ea",
   "metadata": {},
   "source": [
    "# Imports"
   ]
  },
  {
   "cell_type": "code",
   "execution_count": 1,
   "id": "4b508028",
   "metadata": {},
   "outputs": [],
   "source": [
    "from numpy.random import seed\n",
    "seed(888)\n",
    "from tensorflow import random\n",
    "random.set_seed(404)"
   ]
  },
  {
   "cell_type": "code",
   "execution_count": 2,
   "id": "af907587",
   "metadata": {},
   "outputs": [
    {
     "name": "stdout",
     "output_type": "stream",
     "text": [
      "WARNING:tensorflow:From C:\\Users\\tmost\\AppData\\Local\\Packages\\PythonSoftwareFoundation.Python.3.10_qbz5n2kfra8p0\\LocalCache\\local-packages\\Python310\\site-packages\\tensorflow\\python\\compat\\v2_compat.py:107: disable_resource_variables (from tensorflow.python.ops.variable_scope) is deprecated and will be removed in a future version.\n",
      "Instructions for updating:\n",
      "non-resource variables are not supported in the long term\n"
     ]
    }
   ],
   "source": [
    "import os\n",
    "import numpy as np\n",
    "import tensorflow as tf\n",
    "import tensorflow.compat.v1 as tf\n",
    "tf.disable_v2_behavior()\n",
    "\n",
    "from time import strftime"
   ]
  },
  {
   "cell_type": "markdown",
   "id": "a931cac3",
   "metadata": {},
   "source": [
    "# Constants"
   ]
  },
  {
   "cell_type": "code",
   "execution_count": 3,
   "id": "f9977868",
   "metadata": {},
   "outputs": [],
   "source": [
    "X_TRAIN_PATH = 'MNIST/digit_xtrain.csv'\n",
    "X_TEST_PATH = 'MNIST/digit_xtest.csv'\n",
    "Y_TRAIN_PATH = 'MNIST/digit_ytrain.csv'\n",
    "Y_TEST_PATH = 'MNIST/digit_ytest.csv'\n",
    "\n",
    "LOGGING_PATH = 'tensorboard_mnist_digit_logs/'\n",
    "\n",
    "NR_CLASSES = 10\n",
    "VALIDATION_SIZE= 10000\n",
    "IMAGE_WIDTH = 28\n",
    "IMAGE_HEIGHT = 28\n",
    "CHANNELS = 1\n",
    "TOTAL_INPUTS = (IMAGE_WIDTH*IMAGE_HEIGHT*CHANNELS)"
   ]
  },
  {
   "cell_type": "markdown",
   "id": "2ee1515d",
   "metadata": {},
   "source": [
    "# Get the Data"
   ]
  },
  {
   "cell_type": "code",
   "execution_count": 4,
   "id": "e111e5eb",
   "metadata": {},
   "outputs": [
    {
     "name": "stdout",
     "output_type": "stream",
     "text": [
      "CPU times: total: 0 ns\n",
      "Wall time: 9.53 ms\n"
     ]
    }
   ],
   "source": [
    "%%time\n",
    "\n",
    "y_train_all = np.loadtxt(Y_TRAIN_PATH,delimiter=',',dtype=int) #read the text file and convert to numpy array"
   ]
  },
  {
   "cell_type": "code",
   "execution_count": 5,
   "id": "2f6cb96b",
   "metadata": {},
   "outputs": [
    {
     "data": {
      "text/plain": [
       "(60000,)"
      ]
     },
     "execution_count": 5,
     "metadata": {},
     "output_type": "execute_result"
    }
   ],
   "source": [
    "y_train_all.shape"
   ]
  },
  {
   "cell_type": "code",
   "execution_count": 6,
   "id": "217dbbba",
   "metadata": {},
   "outputs": [],
   "source": [
    "y_test = np.loadtxt(Y_TEST_PATH,delimiter = ',',dtype=int)"
   ]
  },
  {
   "cell_type": "code",
   "execution_count": 7,
   "id": "55d816fd",
   "metadata": {},
   "outputs": [
    {
     "data": {
      "text/plain": [
       "(10000,)"
      ]
     },
     "execution_count": 7,
     "metadata": {},
     "output_type": "execute_result"
    }
   ],
   "source": [
    "y_test.shape"
   ]
  },
  {
   "cell_type": "code",
   "execution_count": 8,
   "id": "ffd6c449",
   "metadata": {},
   "outputs": [
    {
     "name": "stdout",
     "output_type": "stream",
     "text": [
      "CPU times: total: 7.42 s\n",
      "Wall time: 12 s\n"
     ]
    }
   ],
   "source": [
    "%%time\n",
    "\n",
    "x_train_all = np.loadtxt(X_TRAIN_PATH,delimiter=',',dtype=int)"
   ]
  },
  {
   "cell_type": "code",
   "execution_count": 9,
   "id": "9c01ba22",
   "metadata": {},
   "outputs": [
    {
     "name": "stdout",
     "output_type": "stream",
     "text": [
      "CPU times: total: 1.61 s\n",
      "Wall time: 2.61 s\n"
     ]
    }
   ],
   "source": [
    "%%time\n",
    "\n",
    "x_test = np.loadtxt(X_TEST_PATH,delimiter=',',dtype=int)"
   ]
  },
  {
   "cell_type": "code",
   "execution_count": 10,
   "id": "a3c4b008",
   "metadata": {},
   "outputs": [
    {
     "data": {
      "text/plain": [
       "(10000, 784)"
      ]
     },
     "execution_count": 10,
     "metadata": {},
     "output_type": "execute_result"
    }
   ],
   "source": [
    "x_test.shape"
   ]
  },
  {
   "cell_type": "markdown",
   "id": "85ba5e5f",
   "metadata": {},
   "source": [
    "# Explore"
   ]
  },
  {
   "cell_type": "code",
   "execution_count": 11,
   "id": "10d29715",
   "metadata": {},
   "outputs": [
    {
     "data": {
      "text/plain": [
       "(60000, 784)"
      ]
     },
     "execution_count": 11,
     "metadata": {},
     "output_type": "execute_result"
    }
   ],
   "source": [
    "x_train_all.shape"
   ]
  },
  {
   "cell_type": "code",
   "execution_count": 12,
   "id": "e7dd3909",
   "metadata": {
    "scrolled": true
   },
   "outputs": [
    {
     "data": {
      "text/plain": [
       "array([  0,   0,   0,   0,   0,   0,   0,   0,   0,   0,   0,   0,   0,\n",
       "         0,   0,   0,   0,   0,   0,   0,   0,   0,   0,   0,   0,   0,\n",
       "         0,   0,   0,   0,   0,   0,   0,   0,   0,   0,   0,   0,   0,\n",
       "         0,   0,   0,   0,   0,   0,   0,   0,   0,   0,   0,   0,   0,\n",
       "         0,   0,   0,   0,   0,   0,   0,   0,   0,   0,   0,   0,   0,\n",
       "         0,   0,   0,   0,   0,   0,   0,   0,   0,   0,   0,   0,   0,\n",
       "         0,   0,   0,   0,   0,   0,   0,   0,   0,   0,   0,   0,   0,\n",
       "         0,   0,   0,   0,   0,   0,   0,   0,   0,   0,   0,   0,   0,\n",
       "         0,   0,   0,   0,   0,   0,   0,   0,   0,   0,   0,   0,   0,\n",
       "         0,   0,   0,   0,   0,   0,   0,   0,   0,   0,   0,   0,   0,\n",
       "         0,   0,   0,   0,   0,   0,   0,   0,   0,   0,   0,   0,   0,\n",
       "         0,   0,   0,   0,   0,   0,   0,   0,   0,   3,  18,  18,  18,\n",
       "       126, 136, 175,  26, 166, 255, 247, 127,   0,   0,   0,   0,   0,\n",
       "         0,   0,   0,   0,   0,   0,   0,  30,  36,  94, 154, 170, 253,\n",
       "       253, 253, 253, 253, 225, 172, 253, 242, 195,  64,   0,   0,   0,\n",
       "         0,   0,   0,   0,   0,   0,   0,   0,  49, 238, 253, 253, 253,\n",
       "       253, 253, 253, 253, 253, 251,  93,  82,  82,  56,  39,   0,   0,\n",
       "         0,   0,   0,   0,   0,   0,   0,   0,   0,   0,  18, 219, 253,\n",
       "       253, 253, 253, 253, 198, 182, 247, 241,   0,   0,   0,   0,   0,\n",
       "         0,   0,   0,   0,   0,   0,   0,   0,   0,   0,   0,   0,   0,\n",
       "        80, 156, 107, 253, 253, 205,  11,   0,  43, 154,   0,   0,   0,\n",
       "         0,   0,   0,   0,   0,   0,   0,   0,   0,   0,   0,   0,   0,\n",
       "         0,   0,   0,  14,   1, 154, 253,  90,   0,   0,   0,   0,   0,\n",
       "         0,   0,   0,   0,   0,   0,   0,   0,   0,   0,   0,   0,   0,\n",
       "         0,   0,   0,   0,   0,   0,   0, 139, 253, 190,   2,   0,   0,\n",
       "         0,   0,   0,   0,   0,   0,   0,   0,   0,   0,   0,   0,   0,\n",
       "         0,   0,   0,   0,   0,   0,   0,   0,   0,  11, 190, 253,  70,\n",
       "         0,   0,   0,   0,   0,   0,   0,   0,   0,   0,   0,   0,   0,\n",
       "         0,   0,   0,   0,   0,   0,   0,   0,   0,   0,   0,   0,  35,\n",
       "       241, 225, 160, 108,   1,   0,   0,   0,   0,   0,   0,   0,   0,\n",
       "         0,   0,   0,   0,   0,   0,   0,   0,   0,   0,   0,   0,   0,\n",
       "         0,   0,  81, 240, 253, 253, 119,  25,   0,   0,   0,   0,   0,\n",
       "         0,   0,   0,   0,   0,   0,   0,   0,   0,   0,   0,   0,   0,\n",
       "         0,   0,   0,   0,   0,  45, 186, 253, 253, 150,  27,   0,   0,\n",
       "         0,   0,   0,   0,   0,   0,   0,   0,   0,   0,   0,   0,   0,\n",
       "         0,   0,   0,   0,   0,   0,   0,   0,  16,  93, 252, 253, 187,\n",
       "         0,   0,   0,   0,   0,   0,   0,   0,   0,   0,   0,   0,   0,\n",
       "         0,   0,   0,   0,   0,   0,   0,   0,   0,   0,   0,   0, 249,\n",
       "       253, 249,  64,   0,   0,   0,   0,   0,   0,   0,   0,   0,   0,\n",
       "         0,   0,   0,   0,   0,   0,   0,   0,   0,   0,   0,  46, 130,\n",
       "       183, 253, 253, 207,   2,   0,   0,   0,   0,   0,   0,   0,   0,\n",
       "         0,   0,   0,   0,   0,   0,   0,   0,   0,   0,   0,  39, 148,\n",
       "       229, 253, 253, 253, 250, 182,   0,   0,   0,   0,   0,   0,   0,\n",
       "         0,   0,   0,   0,   0,   0,   0,   0,   0,   0,   0,  24, 114,\n",
       "       221, 253, 253, 253, 253, 201,  78,   0,   0,   0,   0,   0,   0,\n",
       "         0,   0,   0,   0,   0,   0,   0,   0,   0,   0,   0,  23,  66,\n",
       "       213, 253, 253, 253, 253, 198,  81,   2,   0,   0,   0,   0,   0,\n",
       "         0,   0,   0,   0,   0,   0,   0,   0,   0,   0,   0,  18, 171,\n",
       "       219, 253, 253, 253, 253, 195,  80,   9,   0,   0,   0,   0,   0,\n",
       "         0,   0,   0,   0,   0,   0,   0,   0,   0,   0,   0,  55, 172,\n",
       "       226, 253, 253, 253, 253, 244, 133,  11,   0,   0,   0,   0,   0,\n",
       "         0,   0,   0,   0,   0,   0,   0,   0,   0,   0,   0,   0,   0,\n",
       "       136, 253, 253, 253, 212, 135, 132,  16,   0,   0,   0,   0,   0,\n",
       "         0,   0,   0,   0,   0,   0,   0,   0,   0,   0,   0,   0,   0,\n",
       "         0,   0,   0,   0,   0,   0,   0,   0,   0,   0,   0,   0,   0,\n",
       "         0,   0,   0,   0,   0,   0,   0,   0,   0,   0,   0,   0,   0,\n",
       "         0,   0,   0,   0,   0,   0,   0,   0,   0,   0,   0,   0,   0,\n",
       "         0,   0,   0,   0,   0,   0,   0,   0,   0,   0,   0,   0,   0,\n",
       "         0,   0,   0,   0,   0,   0,   0,   0,   0,   0,   0,   0,   0,\n",
       "         0,   0,   0,   0,   0,   0,   0,   0,   0,   0,   0,   0,   0,\n",
       "         0,   0,   0,   0])"
      ]
     },
     "execution_count": 12,
     "metadata": {},
     "output_type": "execute_result"
    }
   ],
   "source": [
    "x_train_all[0]"
   ]
  },
  {
   "cell_type": "code",
   "execution_count": 13,
   "id": "8cd7a678",
   "metadata": {},
   "outputs": [
    {
     "data": {
      "text/plain": [
       "array([5, 0, 4, 1, 9])"
      ]
     },
     "execution_count": 13,
     "metadata": {},
     "output_type": "execute_result"
    }
   ],
   "source": [
    "y_train_all[:5] # five first entry, our targer is sparse because has int for classes"
   ]
  },
  {
   "cell_type": "markdown",
   "id": "7309447b",
   "metadata": {},
   "source": [
    "# Data Preprocessing"
   ]
  },
  {
   "cell_type": "code",
   "execution_count": 14,
   "id": "e8ed6503",
   "metadata": {},
   "outputs": [],
   "source": [
    "# Rescale\n",
    "\n",
    "x_train_all, x_test = x_train_all/255.0, x_test/255.0"
   ]
  },
  {
   "cell_type": "markdown",
   "id": "69e280ec",
   "metadata": {},
   "source": [
    "#### Convert target values to one-hot encoding"
   ]
  },
  {
   "cell_type": "code",
   "execution_count": 15,
   "id": "dd571263",
   "metadata": {},
   "outputs": [
    {
     "data": {
      "text/plain": [
       "array([[0., 0., 0., 0., 0., 1., 0., 0., 0., 0.],\n",
       "       [1., 0., 0., 0., 0., 0., 0., 0., 0., 0.],\n",
       "       [0., 0., 0., 0., 1., 0., 0., 0., 0., 0.],\n",
       "       [0., 1., 0., 0., 0., 0., 0., 0., 0., 0.],\n",
       "       [0., 0., 0., 0., 0., 0., 0., 0., 0., 1.]])"
      ]
     },
     "execution_count": 15,
     "metadata": {},
     "output_type": "execute_result"
    }
   ],
   "source": [
    "values = y_train_all[:5]\n",
    "np.eye(10)[values]  # array element indexing  #the values in the square brackets acts as the index array.\n",
    "# we're using this entire array as an index and we're pulling out several of the rows from the identity matrix."
   ]
  },
  {
   "cell_type": "code",
   "execution_count": 16,
   "id": "06305d90",
   "metadata": {},
   "outputs": [
    {
     "data": {
      "text/plain": [
       "array([[1., 0., 0., 0., 0., 0., 0., 0., 0., 0.],\n",
       "       [0., 1., 0., 0., 0., 0., 0., 0., 0., 0.],\n",
       "       [0., 0., 1., 0., 0., 0., 0., 0., 0., 0.],\n",
       "       [0., 0., 0., 1., 0., 0., 0., 0., 0., 0.],\n",
       "       [0., 0., 0., 0., 1., 0., 0., 0., 0., 0.],\n",
       "       [0., 0., 0., 0., 0., 1., 0., 0., 0., 0.],\n",
       "       [0., 0., 0., 0., 0., 0., 1., 0., 0., 0.],\n",
       "       [0., 0., 0., 0., 0., 0., 0., 1., 0., 0.],\n",
       "       [0., 0., 0., 0., 0., 0., 0., 0., 1., 0.],\n",
       "       [0., 0., 0., 0., 0., 0., 0., 0., 0., 1.]])"
      ]
     },
     "execution_count": 16,
     "metadata": {},
     "output_type": "execute_result"
    }
   ],
   "source": [
    "np.eye(10) # why 10? because we have got 10 different labels in our dataset 0-9"
   ]
  },
  {
   "cell_type": "code",
   "execution_count": 17,
   "id": "c58bc99d",
   "metadata": {},
   "outputs": [
    {
     "data": {
      "text/plain": [
       "array([0., 0., 0., 0., 0., 0., 0., 0., 0., 1.])"
      ]
     },
     "execution_count": 17,
     "metadata": {},
     "output_type": "execute_result"
    }
   ],
   "source": [
    "np.eye(10)[9]"
   ]
  },
  {
   "cell_type": "code",
   "execution_count": 18,
   "id": "ba90e5c8",
   "metadata": {},
   "outputs": [
    {
     "data": {
      "text/plain": [
       "array([5, 0, 4, 1, 9])"
      ]
     },
     "execution_count": 18,
     "metadata": {},
     "output_type": "execute_result"
    }
   ],
   "source": [
    "values"
   ]
  },
  {
   "cell_type": "code",
   "execution_count": 19,
   "id": "58573d32",
   "metadata": {},
   "outputs": [
    {
     "data": {
      "text/plain": [
       "4"
      ]
     },
     "execution_count": 19,
     "metadata": {},
     "output_type": "execute_result"
    }
   ],
   "source": [
    "values[2]"
   ]
  },
  {
   "cell_type": "code",
   "execution_count": 20,
   "id": "f38a1292",
   "metadata": {},
   "outputs": [],
   "source": [
    "y_train_all = np.eye(NR_CLASSES)[y_train_all]"
   ]
  },
  {
   "cell_type": "code",
   "execution_count": 21,
   "id": "150b0142",
   "metadata": {},
   "outputs": [
    {
     "data": {
      "text/plain": [
       "(60000, 10)"
      ]
     },
     "execution_count": 21,
     "metadata": {},
     "output_type": "execute_result"
    }
   ],
   "source": [
    "y_train_all.shape"
   ]
  },
  {
   "cell_type": "code",
   "execution_count": 22,
   "id": "9c2701b2",
   "metadata": {},
   "outputs": [
    {
     "data": {
      "text/plain": [
       "(10000, 10)"
      ]
     },
     "execution_count": 22,
     "metadata": {},
     "output_type": "execute_result"
    }
   ],
   "source": [
    "y_test = np.eye(NR_CLASSES)[y_test]\n",
    "y_test.shape"
   ]
  },
  {
   "cell_type": "markdown",
   "id": "d49ac4be",
   "metadata": {},
   "source": [
    "### Create validation dataset from training data"
   ]
  },
  {
   "cell_type": "markdown",
   "id": "af167c56",
   "metadata": {},
   "source": [
    "**Challenge:** Split the training dataset into a smaller training dataset and a validation dataset for the features and the labels. Create four arrays: ```x_val```, ```y_val```, ```x_train```, and ```y_train``` from ```x_train_all``` and ```y_train_all```. Use the validation size of 10,000. "
   ]
  },
  {
   "cell_type": "code",
   "execution_count": 23,
   "id": "3a34468a",
   "metadata": {},
   "outputs": [],
   "source": [
    "x_val =  x_train_all[:VALIDATION_SIZE] # first 10,000 value\n",
    "y_val =  y_train_all[:VALIDATION_SIZE]"
   ]
  },
  {
   "cell_type": "code",
   "execution_count": 24,
   "id": "3d2eb94f",
   "metadata": {},
   "outputs": [],
   "source": [
    "x_train = x_train_all[VALIDATION_SIZE:]\n",
    "y_train = y_train_all[VALIDATION_SIZE:]"
   ]
  },
  {
   "cell_type": "code",
   "execution_count": 25,
   "id": "c36a7493",
   "metadata": {},
   "outputs": [
    {
     "data": {
      "text/plain": [
       "(50000, 10)"
      ]
     },
     "execution_count": 25,
     "metadata": {},
     "output_type": "execute_result"
    }
   ],
   "source": [
    "y_train.shape"
   ]
  },
  {
   "cell_type": "markdown",
   "id": "55794567",
   "metadata": {},
   "source": [
    "# Setup Tensorflow Graph"
   ]
  },
  {
   "cell_type": "markdown",
   "id": "5d4eaf4d",
   "metadata": {},
   "source": [
    "- To create a tensor we need, data types and a shape"
   ]
  },
  {
   "cell_type": "code",
   "execution_count": 26,
   "id": "7e5b96c2",
   "metadata": {},
   "outputs": [],
   "source": [
    "# set features and labels as placeholders with variable batch size and data type tf.float32\n",
    "#X = tf.keras.Input(shape=(None, TOTAL_INPUTS), dtype=tf.float32) # features\n",
    "#Y = tf.keras.Input(shape=(None, NR_CLASSES), dtype=tf.float32)  # labels\n",
    "\n",
    "\n",
    "# set features and labels as placeholders with variable batch size and data type tf.float32\n",
    "X = tf.placeholder(tf.float32, shape=[None, TOTAL_INPUTS], name='X')\n",
    "Y = tf.placeholder(tf.float32, shape=[None, NR_CLASSES], name='labels')"
   ]
  },
  {
   "cell_type": "markdown",
   "id": "dbbba95a",
   "metadata": {},
   "source": [
    "### Neural Network Architecture\n",
    "\n",
    "#### Hyperparameters"
   ]
  },
  {
   "cell_type": "code",
   "execution_count": 27,
   "id": "1d1fa595",
   "metadata": {},
   "outputs": [],
   "source": [
    "nr_epochs = 50\n",
    "learning_rate = 1e-3    # le-4 = 0.0001\n",
    "\n",
    "# Nr neurons and layers\n",
    "# the output layers is getting 10\n",
    "\n",
    "n_hidden1 = 512\n",
    "n_hidden2 = 64"
   ]
  },
  {
   "cell_type": "markdown",
   "id": "55506df8",
   "metadata": {},
   "source": [
    "## First Hidden Layer"
   ]
  },
  {
   "cell_type": "code",
   "execution_count": 28,
   "id": "a5c69d06",
   "metadata": {},
   "outputs": [],
   "source": [
    "# initialized weight for the first hidden layers\n",
    "initial_w1 = tf.random.truncated_normal(shape=[TOTAL_INPUTS,n_hidden1], stddev=0.1, seed=42) # nr inputs and nr layers\n",
    "w1 = tf.Variable(initial_value=initial_w1) #  variables are used to hold and update the parameters  "
   ]
  },
  {
   "cell_type": "code",
   "execution_count": 29,
   "id": "9f66bc1f",
   "metadata": {},
   "outputs": [],
   "source": [
    "# initialized bias for the first hidden layers\n",
    "initial_b1 = tf.constant(value=0, shape=[n_hidden1])  #value= zero to initializing biases.\n",
    "b1 = tf.Variable(initial_value=initial_b1)"
   ]
  },
  {
   "cell_type": "code",
   "execution_count": 30,
   "id": "45895a7e",
   "metadata": {},
   "outputs": [],
   "source": [
    "# calculates the input to the first hidden layer\n",
    "# X -> raw input\n",
    "layer1_in = tf.matmul(X, w1) + tf.cast(b1, tf.float32) #matrix multiplication between the input tensor X and the weight tensor w1\n",
    "#layer1_in = tf.keras.layers.Lambda(lambda x: tf.add(tf.matmul(X, w1), tf.cast(b1, tf.float32)), name='layer1_in')"
   ]
  },
  {
   "cell_type": "code",
   "execution_count": 31,
   "id": "456daeb6",
   "metadata": {},
   "outputs": [],
   "source": [
    "# output of this layers\n",
    "layer1_out = tf.nn.relu(layer1_in)"
   ]
  },
  {
   "cell_type": "markdown",
   "id": "90d01722",
   "metadata": {},
   "source": [
    "## Second Hidden Layer"
   ]
  },
  {
   "cell_type": "code",
   "execution_count": 32,
   "id": "86a39ea2",
   "metadata": {},
   "outputs": [],
   "source": [
    "# initialized weight for the second hidden layers\n",
    "# in second layer instead of total input, get the second hidden layer\n",
    "initial_w2 = tf.random.truncated_normal(shape=[n_hidden1,n_hidden2], stddev=0.1, seed=42)\n",
    "w2 = tf.Variable(initial_value=initial_w2)\n",
    "\n",
    "# initialized bias for the second hidden layers\n",
    "initial_b2 = tf.constant(value=0, shape=[n_hidden2])\n",
    "b2 = tf.Variable(initial_value=initial_b2)\n",
    "\n",
    "# what the features were that were going into the second hidden layer. output of second layers \n",
    "layer2_in = tf.matmul(layer1_out, w2) +  tf.cast(b2, tf.float32)\n",
    "\n",
    "# output of this layers\n",
    "layer2_out = tf.nn.relu(layer2_in)"
   ]
  },
  {
   "cell_type": "markdown",
   "id": "13694ec7",
   "metadata": {},
   "source": [
    "## Output Layer"
   ]
  },
  {
   "cell_type": "code",
   "execution_count": 33,
   "id": "f6c0cd35",
   "metadata": {},
   "outputs": [],
   "source": [
    "# weight\n",
    "initial_w3 = tf.random.truncated_normal(shape=[n_hidden2,NR_CLASSES], stddev=0.1, seed=42)\n",
    "w3 = tf.Variable(initial_value=initial_w3)\n",
    "\n",
    "# bias\n",
    "initial_b3 = tf.constant(value=0, shape=[NR_CLASSES])\n",
    "b3 = tf.Variable(initial_value=initial_b3)\n",
    "\n",
    "# layers input and output \n",
    "layer3_in = tf.matmul(layer2_out, w3) +  tf.cast(b3, tf.float32)\n",
    "output = tf.nn.softmax(layer3_in)"
   ]
  },
  {
   "cell_type": "markdown",
   "id": "ad2866f6",
   "metadata": {},
   "source": [
    "#  Tensorboard Setup"
   ]
  },
  {
   "cell_type": "code",
   "execution_count": 34,
   "id": "6ef75426",
   "metadata": {},
   "outputs": [
    {
     "name": "stdout",
     "output_type": "stream",
     "text": [
      "Successfully created directory: tensorboard_mnist_digit_logs/Model1_2023-05-06_17-03-02\n"
     ]
    }
   ],
   "source": [
    "folder_name = strftime(\"Model1_%Y-%m-%d_%H-%M-%S\")  #folder_name = f'Model 1 at {strftime(\"%H-%M\")}'\n",
    "\n",
    "directory = os.path.join(LOGGING_PATH, folder_name)\n",
    "\n",
    "try:\n",
    "    os.makedirs(directory)\n",
    "    print(f\"Successfully created directory: {directory}\")\n",
    "except OSError as exception:\n",
    "    print(f\"Failed to create directory: {directory}\")\n",
    "    print(exception.strerror)\n"
   ]
  },
  {
   "cell_type": "markdown",
   "id": "88058dfb",
   "metadata": {},
   "source": [
    "# Loss, Optimisation & Metrics"
   ]
  },
  {
   "cell_type": "markdown",
   "id": "9d4499e1",
   "metadata": {},
   "source": [
    "### Defining Loss function"
   ]
  },
  {
   "cell_type": "markdown",
   "id": "cce66c15",
   "metadata": {},
   "source": [
    "- Loss = Calculate the error between the actual output and predicted output\n",
    "\n",
    "\n",
    "- Logit = the output from the output layer\n",
    "\n",
    "\n",
    "- label = are going to be the actual labels (Y)"
   ]
  },
  {
   "cell_type": "code",
   "execution_count": 35,
   "id": "2cacc4de",
   "metadata": {},
   "outputs": [],
   "source": [
    "# we are training data in the batches that's why need to take the average of the losses\n",
    "\n",
    "loss = tf.reduce_mean(tf.nn.softmax_cross_entropy_with_logits_v2(labels=Y, logits=output))"
   ]
  },
  {
   "cell_type": "markdown",
   "id": "436d375e",
   "metadata": {},
   "source": [
    "### Defining Optimizers"
   ]
  },
  {
   "cell_type": "code",
   "execution_count": 36,
   "id": "f2c9e948",
   "metadata": {},
   "outputs": [],
   "source": [
    "optimizer = tf.train.AdamOptimizer(learning_rate=learning_rate).minimize(loss)"
   ]
  },
  {
   "cell_type": "markdown",
   "id": "c7911eec",
   "metadata": {},
   "source": [
    "- our output is a operation which update the variable, i.e., weights and biases"
   ]
  },
  {
   "cell_type": "markdown",
   "id": "f018392e",
   "metadata": {},
   "source": [
    "### Accuracy Metrics"
   ]
  },
  {
   "cell_type": "markdown",
   "id": "4a61331b",
   "metadata": {},
   "source": [
    "- Accuracy =  compare \"prediction\" and \"true labels\" and we need to check if they're equal.\n",
    "\n",
    "\n",
    "- Once we know if they are equal, then we have a correct prediction.\n",
    "\n",
    "\n",
    "- And once we know how many correct predictions we have, we can work out the accuracy of our model."
   ]
  },
  {
   "cell_type": "code",
   "execution_count": 37,
   "id": "ad7e2fb1",
   "metadata": {},
   "outputs": [],
   "source": [
    "# compare two quantities in this case the output and Y \n",
    "\n",
    "correct_pred = tf.equal(tf.argmax(output, axis=1), tf.argmax(Y, axis=1))\n",
    "accuracy = tf.reduce_mean(tf.cast(correct_pred, tf.float32)) # the average across all the batches"
   ]
  },
  {
   "cell_type": "code",
   "execution_count": 38,
   "id": "328be2ea",
   "metadata": {},
   "outputs": [
    {
     "data": {
      "text/plain": [
       "<tf.Tensor 'accuracy:0' shape=() dtype=string>"
      ]
     },
     "execution_count": 38,
     "metadata": {},
     "output_type": "execute_result"
    }
   ],
   "source": [
    "tf.summary.scalar('accuracy', accuracy)"
   ]
  },
  {
   "cell_type": "markdown",
   "id": "65746280",
   "metadata": {},
   "source": [
    "# Train our model \n",
    "\n",
    "- involves of starting a session, batching our data and finally running the trainig loop"
   ]
  },
  {
   "cell_type": "markdown",
   "id": "cde3e81c",
   "metadata": {},
   "source": [
    "## Run Sessions"
   ]
  },
  {
   "cell_type": "code",
   "execution_count": 39,
   "id": "b105ba53",
   "metadata": {},
   "outputs": [],
   "source": [
    "# session object encapsulate the environment where all operation and calculation take placeand executed\n",
    "sess = tf.Session()"
   ]
  },
  {
   "cell_type": "markdown",
   "id": "471215fb",
   "metadata": {},
   "source": [
    "### Setup Filewriter and Merge Summeries"
   ]
  },
  {
   "cell_type": "code",
   "execution_count": 40,
   "id": "8b0b20c6",
   "metadata": {},
   "outputs": [],
   "source": [
    "#  FileWriter is an object that can be used to write the summary data that can be visualized with TensorBoard.\n",
    "merged_summary = tf.summary.merge_all()\n",
    "\n",
    "train_writer = tf.summary.FileWriter(directory + '/train')\n",
    "train_writer.add_graph(sess.graph)\n",
    "\n",
    "#validation_writer = tf.summary.FileWriter(directory + '/validation')"
   ]
  },
  {
   "cell_type": "code",
   "execution_count": 41,
   "id": "35dc01a9",
   "metadata": {},
   "outputs": [],
   "source": [
    "# Initialized all the variables \n",
    "\n",
    "init = tf.global_variables_initializer()\n",
    "sess.run(init) # run session\n",
    "\n",
    "# these three line of code get us all set up"
   ]
  },
  {
   "cell_type": "code",
   "execution_count": 42,
   "id": "7bea289e",
   "metadata": {},
   "outputs": [
    {
     "data": {
      "text/plain": [
       "array([[-0.02807751, -0.01377521, -0.06763297, ..., -0.02663724,\n",
       "         0.02861341, -0.05550233],\n",
       "       [-0.16205125, -0.18859725, -0.03102448, ..., -0.0820701 ,\n",
       "        -0.03345905, -0.02453214],\n",
       "       [ 0.12582639, -0.16444902,  0.13603579, ..., -0.09897225,\n",
       "        -0.09923435,  0.1451435 ],\n",
       "       ...,\n",
       "       [-0.04471838, -0.09593774, -0.08978765, ...,  0.04240045,\n",
       "        -0.18997248,  0.00134785],\n",
       "       [ 0.03215451,  0.04336654, -0.18240118, ...,  0.08296242,\n",
       "        -0.10039439, -0.12682591],\n",
       "       [ 0.08766606, -0.15083945,  0.08048793, ...,  0.07548849,\n",
       "        -0.04359084, -0.11031353]], dtype=float32)"
      ]
     },
     "execution_count": 42,
     "metadata": {},
     "output_type": "execute_result"
    }
   ],
   "source": [
    "w1.eval(sess)"
   ]
  },
  {
   "cell_type": "code",
   "execution_count": 43,
   "id": "85ef0532",
   "metadata": {},
   "outputs": [
    {
     "data": {
      "text/plain": [
       "array([0, 0, 0, 0, 0, 0, 0, 0, 0, 0])"
      ]
     },
     "execution_count": 43,
     "metadata": {},
     "output_type": "execute_result"
    }
   ],
   "source": [
    "b3.eval(sess) # output biases"
   ]
  },
  {
   "cell_type": "code",
   "execution_count": 44,
   "id": "91975720",
   "metadata": {},
   "outputs": [],
   "source": [
    "# fisrt we need to spilit our training data into smaller components\n",
    "# because we want to be able to train our model on batches of 1000 samples at a time."
   ]
  },
  {
   "cell_type": "markdown",
   "id": "3c4f128c",
   "metadata": {},
   "source": [
    "## Batching the Data"
   ]
  },
  {
   "cell_type": "code",
   "execution_count": 45,
   "id": "a85c382d",
   "metadata": {},
   "outputs": [],
   "source": [
    "size_of_batch = 1000"
   ]
  },
  {
   "cell_type": "code",
   "execution_count": 46,
   "id": "a931f244",
   "metadata": {},
   "outputs": [],
   "source": [
    "num_examples = y_train.shape[0]\n",
    "nr_iterations = int(num_examples/size_of_batch)\n",
    "\n",
    "index_in_epoch= 0 # help where one batch end and another one start  \n",
    "# 1st 0-> 999 2nd -> 1000 ->1999,...until 50000 examples in our training"
   ]
  },
  {
   "cell_type": "code",
   "execution_count": 47,
   "id": "3e055165",
   "metadata": {},
   "outputs": [],
   "source": [
    "# defining function for going from one batch to another batch\n",
    "#batch size -> how big the batch be\n",
    "# data and labels --> x, y respectively"
   ]
  },
  {
   "cell_type": "code",
   "execution_count": 48,
   "id": "cdb339f0",
   "metadata": {},
   "outputs": [],
   "source": [
    "def next_batch(batch_size, data, labels):\n",
    "    \n",
    "    global num_examples   # hold the variables that is outside of this function\n",
    "    global index_in_epoch  \n",
    "    \n",
    "    start = index_in_epoch   # inx 0 then will be update\n",
    "    index_in_epoch += batch_size   # index_in_epoch = index_in_epoch + batch_size\n",
    "    \n",
    "    if index_in_epoch > num_examples:\n",
    "        start = 0\n",
    "        index_in_epoch = batch_size\n",
    "    \n",
    "    end = index_in_epoch\n",
    "    \n",
    "    return data[start:end], labels[start:end]  # first time you get value between 0 and 999"
   ]
  },
  {
   "cell_type": "markdown",
   "id": "25ae7f2b",
   "metadata": {},
   "source": [
    "### Training Loop"
   ]
  },
  {
   "cell_type": "code",
   "execution_count": 49,
   "id": "81e66e6d",
   "metadata": {},
   "outputs": [
    {
     "name": "stdout",
     "output_type": "stream",
     "text": [
      "Epoch 0 \t| Training Accuracy = 0.8600000143051147\n",
      "Epoch 1 \t| Training Accuracy = 0.8659999966621399\n",
      "Epoch 2 \t| Training Accuracy = 0.8709999918937683\n",
      "Epoch 3 \t| Training Accuracy = 0.8740000128746033\n",
      "Epoch 4 \t| Training Accuracy = 0.8769999742507935\n",
      "Epoch 5 \t| Training Accuracy = 0.9700000286102295\n",
      "Epoch 6 \t| Training Accuracy = 0.984000027179718\n",
      "Epoch 7 \t| Training Accuracy = 0.9850000143051147\n",
      "Epoch 8 \t| Training Accuracy = 0.9860000014305115\n",
      "Epoch 9 \t| Training Accuracy = 0.9869999885559082\n",
      "Epoch 10 \t| Training Accuracy = 0.9869999885559082\n",
      "Epoch 11 \t| Training Accuracy = 0.9879999756813049\n",
      "Epoch 12 \t| Training Accuracy = 0.9890000224113464\n",
      "Epoch 13 \t| Training Accuracy = 0.9900000095367432\n",
      "Epoch 14 \t| Training Accuracy = 0.9890000224113464\n",
      "Epoch 15 \t| Training Accuracy = 0.9900000095367432\n",
      "Epoch 16 \t| Training Accuracy = 0.9900000095367432\n",
      "Epoch 17 \t| Training Accuracy = 0.9900000095367432\n",
      "Epoch 18 \t| Training Accuracy = 0.9900000095367432\n",
      "Epoch 19 \t| Training Accuracy = 0.9909999966621399\n",
      "Epoch 20 \t| Training Accuracy = 0.9919999837875366\n",
      "Epoch 21 \t| Training Accuracy = 0.9919999837875366\n",
      "Epoch 22 \t| Training Accuracy = 0.9929999709129333\n",
      "Epoch 23 \t| Training Accuracy = 0.9940000176429749\n",
      "Epoch 24 \t| Training Accuracy = 0.9940000176429749\n",
      "Epoch 25 \t| Training Accuracy = 0.9940000176429749\n",
      "Epoch 26 \t| Training Accuracy = 0.9940000176429749\n",
      "Epoch 27 \t| Training Accuracy = 0.9940000176429749\n",
      "Epoch 28 \t| Training Accuracy = 0.9940000176429749\n",
      "Epoch 29 \t| Training Accuracy = 0.9940000176429749\n",
      "Epoch 30 \t| Training Accuracy = 0.9940000176429749\n",
      "Epoch 31 \t| Training Accuracy = 0.9940000176429749\n",
      "Epoch 32 \t| Training Accuracy = 0.9940000176429749\n",
      "Epoch 33 \t| Training Accuracy = 0.9940000176429749\n",
      "Epoch 34 \t| Training Accuracy = 0.9940000176429749\n",
      "Epoch 35 \t| Training Accuracy = 0.9940000176429749\n",
      "Epoch 36 \t| Training Accuracy = 0.9940000176429749\n",
      "Epoch 37 \t| Training Accuracy = 0.9940000176429749\n",
      "Epoch 38 \t| Training Accuracy = 0.9940000176429749\n",
      "Epoch 39 \t| Training Accuracy = 0.9940000176429749\n",
      "Epoch 40 \t| Training Accuracy = 0.9940000176429749\n",
      "Epoch 41 \t| Training Accuracy = 0.9940000176429749\n",
      "Epoch 42 \t| Training Accuracy = 0.9940000176429749\n",
      "Epoch 43 \t| Training Accuracy = 0.9940000176429749\n",
      "Epoch 44 \t| Training Accuracy = 0.9940000176429749\n",
      "Epoch 45 \t| Training Accuracy = 0.9940000176429749\n",
      "Epoch 46 \t| Training Accuracy = 0.9940000176429749\n",
      "Epoch 47 \t| Training Accuracy = 0.9940000176429749\n",
      "Epoch 48 \t| Training Accuracy = 0.9940000176429749\n",
      "Epoch 49 \t| Training Accuracy = 0.9940000176429749\n",
      "Done training!\n"
     ]
    }
   ],
   "source": [
    "for epoch in range(nr_epochs):\n",
    "\n",
    "    # ============= Training Dataset =========\n",
    "    for i in range(nr_iterations):\n",
    "\n",
    "        batch_x, batch_y = next_batch(batch_size=size_of_batch, data=x_train, labels=y_train)\n",
    "\n",
    "        feed_dictionary = {X:batch_x, Y:batch_y}  \n",
    "\n",
    "\n",
    "        sess.run(optimizer, feed_dict=feed_dictionary)\n",
    "\n",
    "\n",
    "    acc, loss_ = sess.run([accuracy,loss], feed_dict=feed_dictionary)\n",
    "    \n",
    "    \n",
    "    acc_sum = tf.Summary(value=[tf.Summary.Value(tag=\"accuracy\", simple_value=acc),])\n",
    "    train_writer.add_summary(acc_sum, epoch)\n",
    "    \n",
    "    loss_sum = tf.Summary(value=[tf.Summary.Value(tag=\"loss\", simple_value=loss_),])   \n",
    "    train_writer.add_summary(loss_sum, epoch)\n",
    "\n",
    "    print(f'Epoch {epoch} \\t| Training Accuracy = {acc}')\n",
    "    \n",
    "    \n",
    "print('Done training!')"
   ]
  },
  {
   "cell_type": "code",
   "execution_count": null,
   "id": "64bdf2d6",
   "metadata": {},
   "outputs": [],
   "source": []
  },
  {
   "cell_type": "markdown",
   "id": "c80419b0",
   "metadata": {},
   "source": [
    "# Reset for the Next Run"
   ]
  },
  {
   "cell_type": "code",
   "execution_count": 50,
   "id": "ba6ffa46",
   "metadata": {},
   "outputs": [],
   "source": [
    "train_writer.close()\n",
    "sess.close()\n",
    "tf.reset_default_graph()"
   ]
  },
  {
   "cell_type": "code",
   "execution_count": null,
   "id": "2bd3f108",
   "metadata": {},
   "outputs": [],
   "source": []
  },
  {
   "cell_type": "code",
   "execution_count": null,
   "id": "f13ba0d3",
   "metadata": {},
   "outputs": [],
   "source": []
  },
  {
   "cell_type": "code",
   "execution_count": null,
   "id": "78db6cbf",
   "metadata": {},
   "outputs": [],
   "source": []
  },
  {
   "cell_type": "code",
   "execution_count": null,
   "id": "d269634c",
   "metadata": {},
   "outputs": [],
   "source": []
  },
  {
   "cell_type": "code",
   "execution_count": null,
   "id": "e4b2aba8",
   "metadata": {},
   "outputs": [],
   "source": []
  }
 ],
 "metadata": {
  "kernelspec": {
   "display_name": "Python 3 (ipykernel)",
   "language": "python",
   "name": "python3"
  },
  "language_info": {
   "codemirror_mode": {
    "name": "ipython",
    "version": 3
   },
   "file_extension": ".py",
   "mimetype": "text/x-python",
   "name": "python",
   "nbconvert_exporter": "python",
   "pygments_lexer": "ipython3",
   "version": "3.10.11"
  }
 },
 "nbformat": 4,
 "nbformat_minor": 5
}
